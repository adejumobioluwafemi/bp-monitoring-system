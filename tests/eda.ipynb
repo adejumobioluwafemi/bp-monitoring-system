{
 "cells": [
  {
   "cell_type": "code",
   "execution_count": 6,
   "id": "f9fb3b37",
   "metadata": {},
   "outputs": [],
   "source": [
    "# !pip install kagglehub"
   ]
  },
  {
   "cell_type": "code",
   "execution_count": null,
   "id": "318a81ef",
   "metadata": {},
   "outputs": [
    {
     "name": "stdout",
     "output_type": "stream",
     "text": [
      "Files copied from /Users/a1/.cache/kagglehub/datasets/minanabil11111212/hypertension-data-set-for-predict/versions/1 to /Users/a1/Downloads/projects/100DaysOfAI/bp-monitoring-system/data\n"
     ]
    }
   ],
   "source": [
    "import kagglehub\n",
    "import shutil\n",
    "import os\n",
    "\n",
    "download_path = kagglehub.dataset_download(\"minanabil11111212/hypertension-data-set-for-predict\")\n",
    "desired_path = \"/Users/a1/Downloads/projects/100DaysOfAI/bp-monitoring-system/data\"\n",
    "\n",
    "shutil.copytree(download_path, desired_path, dirs_exist_ok=True)\n",
    "\n",
    "print(f\"Files copied from {download_path} to {desired_path}\")"
   ]
  },
  {
   "cell_type": "code",
   "execution_count": null,
   "id": "139cb4d8",
   "metadata": {},
   "outputs": [],
   "source": []
  }
 ],
 "metadata": {
  "kernelspec": {
   "display_name": "agrotech_easy",
   "language": "python",
   "name": "python3"
  },
  "language_info": {
   "codemirror_mode": {
    "name": "ipython",
    "version": 3
   },
   "file_extension": ".py",
   "mimetype": "text/x-python",
   "name": "python",
   "nbconvert_exporter": "python",
   "pygments_lexer": "ipython3",
   "version": "3.11.5"
  }
 },
 "nbformat": 4,
 "nbformat_minor": 5
}
